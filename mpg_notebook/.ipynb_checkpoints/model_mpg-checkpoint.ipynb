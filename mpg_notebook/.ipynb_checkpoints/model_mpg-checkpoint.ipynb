{
 "cells": [
  {
   "cell_type": "code",
   "execution_count": null,
   "metadata": {},
   "outputs": [],
   "source": [
    "!pip install sklearn-pandas\n"
   ]
  },
  {
   "cell_type": "code",
   "execution_count": 11,
   "metadata": {},
   "outputs": [],
   "source": [
    "import pandas as pd\n",
    "import numpy as np\n",
    "import sklearn\n",
    "from sklearn import pipeline,preprocessing,metrics,model_selection,ensemble\n",
    "from sklearn_pandas import DataFrameMapper\n",
    "import sklearn.impute\n"
   ]
  },
  {
   "cell_type": "code",
   "execution_count": 2,
   "metadata": {},
   "outputs": [],
   "source": [
    "data = pd.read_csv(r'C:/Users/user/Downloads/mpg_dataset/auto-mpg.csv')"
   ]
  },
  {
   "cell_type": "code",
   "execution_count": 3,
   "metadata": {},
   "outputs": [
    {
     "data": {
      "text/html": [
       "<div>\n",
       "<style scoped>\n",
       "    .dataframe tbody tr th:only-of-type {\n",
       "        vertical-align: middle;\n",
       "    }\n",
       "\n",
       "    .dataframe tbody tr th {\n",
       "        vertical-align: top;\n",
       "    }\n",
       "\n",
       "    .dataframe thead th {\n",
       "        text-align: right;\n",
       "    }\n",
       "</style>\n",
       "<table border=\"1\" class=\"dataframe\">\n",
       "  <thead>\n",
       "    <tr style=\"text-align: right;\">\n",
       "      <th></th>\n",
       "      <th>mpg</th>\n",
       "      <th>cylinders</th>\n",
       "      <th>displacement</th>\n",
       "      <th>horsepower</th>\n",
       "      <th>weight</th>\n",
       "      <th>acceleration</th>\n",
       "      <th>model year</th>\n",
       "      <th>origin</th>\n",
       "      <th>car name</th>\n",
       "    </tr>\n",
       "  </thead>\n",
       "  <tbody>\n",
       "    <tr>\n",
       "      <th>0</th>\n",
       "      <td>18.0</td>\n",
       "      <td>8</td>\n",
       "      <td>307.0</td>\n",
       "      <td>130</td>\n",
       "      <td>3504</td>\n",
       "      <td>12.0</td>\n",
       "      <td>70</td>\n",
       "      <td>1</td>\n",
       "      <td>chevrolet chevelle malibu</td>\n",
       "    </tr>\n",
       "    <tr>\n",
       "      <th>1</th>\n",
       "      <td>15.0</td>\n",
       "      <td>8</td>\n",
       "      <td>350.0</td>\n",
       "      <td>165</td>\n",
       "      <td>3693</td>\n",
       "      <td>11.5</td>\n",
       "      <td>70</td>\n",
       "      <td>1</td>\n",
       "      <td>buick skylark 320</td>\n",
       "    </tr>\n",
       "    <tr>\n",
       "      <th>2</th>\n",
       "      <td>18.0</td>\n",
       "      <td>8</td>\n",
       "      <td>318.0</td>\n",
       "      <td>150</td>\n",
       "      <td>3436</td>\n",
       "      <td>11.0</td>\n",
       "      <td>70</td>\n",
       "      <td>1</td>\n",
       "      <td>plymouth satellite</td>\n",
       "    </tr>\n",
       "    <tr>\n",
       "      <th>3</th>\n",
       "      <td>16.0</td>\n",
       "      <td>8</td>\n",
       "      <td>304.0</td>\n",
       "      <td>150</td>\n",
       "      <td>3433</td>\n",
       "      <td>12.0</td>\n",
       "      <td>70</td>\n",
       "      <td>1</td>\n",
       "      <td>amc rebel sst</td>\n",
       "    </tr>\n",
       "    <tr>\n",
       "      <th>4</th>\n",
       "      <td>17.0</td>\n",
       "      <td>8</td>\n",
       "      <td>302.0</td>\n",
       "      <td>140</td>\n",
       "      <td>3449</td>\n",
       "      <td>10.5</td>\n",
       "      <td>70</td>\n",
       "      <td>1</td>\n",
       "      <td>ford torino</td>\n",
       "    </tr>\n",
       "  </tbody>\n",
       "</table>\n",
       "</div>"
      ],
      "text/plain": [
       "    mpg  cylinders  displacement horsepower  weight  acceleration  model year  \\\n",
       "0  18.0          8         307.0        130    3504          12.0          70   \n",
       "1  15.0          8         350.0        165    3693          11.5          70   \n",
       "2  18.0          8         318.0        150    3436          11.0          70   \n",
       "3  16.0          8         304.0        150    3433          12.0          70   \n",
       "4  17.0          8         302.0        140    3449          10.5          70   \n",
       "\n",
       "   origin                   car name  \n",
       "0       1  chevrolet chevelle malibu  \n",
       "1       1          buick skylark 320  \n",
       "2       1         plymouth satellite  \n",
       "3       1              amc rebel sst  \n",
       "4       1                ford torino  "
      ]
     },
     "execution_count": 3,
     "metadata": {},
     "output_type": "execute_result"
    }
   ],
   "source": [
    "data.head(5)"
   ]
  },
  {
   "cell_type": "code",
   "execution_count": 4,
   "metadata": {},
   "outputs": [
    {
     "data": {
      "text/plain": [
       "mpg             0\n",
       "cylinders       0\n",
       "displacement    0\n",
       "horsepower      0\n",
       "weight          0\n",
       "acceleration    0\n",
       "model year      0\n",
       "origin          0\n",
       "car name        0\n",
       "dtype: int64"
      ]
     },
     "execution_count": 4,
     "metadata": {},
     "output_type": "execute_result"
    }
   ],
   "source": [
    "data.isnull().sum()"
   ]
  },
  {
   "cell_type": "code",
   "execution_count": 13,
   "metadata": {},
   "outputs": [],
   "source": [
    "mapper = DataFrameMapper([\n",
    "                        (['cylinders','displacement','weight','acceleration','model year'], preprocessing.StandardScaler()),\n",
    "                        (['horsepower'],sklearn.impute.SimpleImputer()),\n",
    "                        (['origin'], preprocessing.OneHotEncoder())\n",
    "                        ])\n"
   ]
  },
  {
   "cell_type": "code",
   "execution_count": 14,
   "metadata": {},
   "outputs": [],
   "source": [
    "pipeline_obj = pipeline.Pipeline([\n",
    "    ('mapper',mapper),\n",
    "    (\"model\", ensemble.RandomForestRegressor())\n",
    "])\n"
   ]
  },
  {
   "cell_type": "code",
   "execution_count": 15,
   "metadata": {},
   "outputs": [
    {
     "data": {
      "text/plain": [
       "Index(['mpg', 'cylinders', 'displacement', 'horsepower', 'weight',\n",
       "       'acceleration', 'model year', 'origin', 'car name'],\n",
       "      dtype='object')"
      ]
     },
     "execution_count": 15,
     "metadata": {},
     "output_type": "execute_result"
    }
   ],
   "source": [
    "data.columns"
   ]
  },
  {
   "cell_type": "code",
   "execution_count": 21,
   "metadata": {},
   "outputs": [],
   "source": [
    "data['horsepower'] =pd.to_numeric(data['horsepower'], errors='coerce')\n"
   ]
  },
  {
   "cell_type": "code",
   "execution_count": 22,
   "metadata": {},
   "outputs": [
    {
     "data": {
      "text/plain": [
       "mpg             float64\n",
       "cylinders         int64\n",
       "displacement    float64\n",
       "horsepower      float64\n",
       "weight            int64\n",
       "acceleration    float64\n",
       "model year        int64\n",
       "origin            int64\n",
       "car name         object\n",
       "dtype: object"
      ]
     },
     "execution_count": 22,
     "metadata": {},
     "output_type": "execute_result"
    }
   ],
   "source": [
    "data.dtypes"
   ]
  },
  {
   "cell_type": "code",
   "execution_count": 23,
   "metadata": {},
   "outputs": [],
   "source": [
    "X = ['cylinders', 'displacement', 'horsepower', 'weight', 'acceleration', 'model year', 'origin']\n",
    "Y = ['mpg']"
   ]
  },
  {
   "cell_type": "code",
   "execution_count": 24,
   "metadata": {},
   "outputs": [
    {
     "name": "stderr",
     "output_type": "stream",
     "text": [
      "C:\\Users\\user\\Anaconda3\\lib\\site-packages\\sklearn\\pipeline.py:335: DataConversionWarning: A column-vector y was passed when a 1d array was expected. Please change the shape of y to (n_samples,), for example using ravel().\n",
      "  self._final_estimator.fit(Xt, y, **fit_params_last_step)\n"
     ]
    },
    {
     "data": {
      "text/plain": [
       "Pipeline(steps=[('mapper',\n",
       "                 DataFrameMapper(drop_cols=[],\n",
       "                                 features=[(['cylinders', 'displacement',\n",
       "                                             'weight', 'acceleration',\n",
       "                                             'model year'],\n",
       "                                            StandardScaler()),\n",
       "                                           (['horsepower'], SimpleImputer()),\n",
       "                                           (['origin'], OneHotEncoder())])),\n",
       "                ('model', RandomForestRegressor())])"
      ]
     },
     "execution_count": 24,
     "metadata": {},
     "output_type": "execute_result"
    }
   ],
   "source": [
    "pipeline_obj.fit(data[X],data[Y])\n"
   ]
  },
  {
   "cell_type": "code",
   "execution_count": 25,
   "metadata": {},
   "outputs": [
    {
     "data": {
      "text/plain": [
       "array([17.271, 14.93 , 17.11 , 16.27 , 16.999, 14.62 , 13.97 , 14.14 ,\n",
       "       13.5  , 14.68 , 14.91 , 14.32 , 15.15 , 14.891, 23.953, 21.838,\n",
       "       19.152, 20.911, 26.95 , 26.485, 24.43 , 24.551, 24.785, 25.151,\n",
       "       20.8  , 10.7  , 11.285, 11.73 , 10.05 , 26.98 , 26.125, 24.78 ,\n",
       "       26.335, 19.384, 16.72 , 17.571, 18.656, 18.175, 13.985, 13.78 ,\n",
       "       14.115, 14.325, 12.16 , 12.93 , 12.64 , 18.231, 22.16 , 18.6  ,\n",
       "       18.22 , 23.739, 26.97 , 29.925, 29.31 , 31.565, 33.419, 27.245,\n",
       "       27.085, 24.538, 25.805, 23.555, 20.61 , 22.189, 13.465, 13.67 ,\n",
       "       14.73 , 14.12 , 15.9  , 11.58 , 12.83 , 12.51 , 12.86 , 20.551,\n",
       "       14.79 , 13.975, 13.465, 14.18 , 18.89 , 22.291, 21.101, 26.225,\n",
       "       22.736, 26.032, 22.747, 27.449, 26.845, 13.36 , 14.45 , 13.42 ,\n",
       "       14.075, 14.56 , 11.93 , 13.305, 13.26 , 14.145, 12.53 , 12.12 ,\n",
       "       13.125, 18.486, 16.385, 18.48 , 18.276, 22.084, 26.135, 11.59 ,\n",
       "       12.2  , 12.83 , 12.37 , 18.483, 21.325, 21.475, 22.92 , 22.576,\n",
       "       20.288, 21.433, 26.04 , 14.4  , 15.105, 28.745, 25.22 , 21.695,\n",
       "       19.588, 15.192, 23.282, 20.475, 12.1  , 20.187, 20.663, 19.245,\n",
       "       16.195, 31.08 , 25.121, 31.345, 24.87 , 16.05 , 16.09 , 17.691,\n",
       "       15.37 , 13.435, 13.99 , 13.695, 14.225, 27.554, 27.305, 26.219,\n",
       "       31.761, 31.66 , 27.949, 25.575, 25.836, 23.998, 25.236, 29.99 ,\n",
       "       19.184, 17.688, 16.135, 16.232, 15.095, 14.915, 15.165, 14.29 ,\n",
       "       17.103, 15.9  , 15.8  , 17.749, 20.386, 19.508, 14.955, 28.22 ,\n",
       "       23.627, 19.797, 22.72 , 23.848, 25.765, 24.108, 19.368, 28.805,\n",
       "       18.85 , 23.395, 22.381, 21.35 , 24.037, 32.345, 26.79 , 25.644,\n",
       "       24.879, 25.945, 27.489, 16.795, 15.545, 16.137, 14.679, 21.38 ,\n",
       "       20.626, 22.516, 21.273, 29.74 , 25.815, 28.89 , 32.37 , 19.275,\n",
       "       18.315, 18.187, 18.187, 29.375, 31.954, 27.995, 25.933, 20.33 ,\n",
       "       13.474, 19.904, 19.37 , 16.954, 15.435, 13.695, 13.635, 13.546,\n",
       "       31.457, 30.032, 33.761, 25.684, 32.946, 16.871, 17.628, 15.64 ,\n",
       "       15.297, 17.87 , 20.33 , 19.158, 18.22 , 15.79 , 15.7  , 15.653,\n",
       "       15.802, 29.51 , 24.423, 26.133, 24.798, 30.731, 32.12 , 30.733,\n",
       "       30.021, 21.809, 22.749, 22.071, 40.073, 35.25 , 34.611, 37.754,\n",
       "       35.894, 19.99 , 18.767, 19.319, 19.23 , 20.337, 20.397, 25.056,\n",
       "       20.091, 19.732, 20.417, 20.719, 18.876, 18.804, 18.895, 18.109,\n",
       "       18.342, 16.977, 30.558, 25.468, 26.292, 29.887, 22.917, 23.333,\n",
       "       23.097, 24.446, 20.92 , 17.789, 21.9  , 17.052, 32.081, 31.069,\n",
       "       21.405, 21.252, 24.101, 20.416, 20.754, 17.448, 18.08 , 17.114,\n",
       "       18.016, 16.617, 15.996, 19.595, 17.843, 33.961, 34.342, 35.352,\n",
       "       27.96 , 25.185, 21.6  , 27.654, 22.689, 34.896, 34.291, 33.315,\n",
       "       36.706, 27.98 , 28.048, 26.602, 31.535, 39.297, 37.237, 33.292,\n",
       "       37.009, 27.815, 25.971, 24.975, 20.319, 34.708, 29.885, 31.634,\n",
       "       34.954, 32.822, 44.214, 26.678, 41.399, 43.342, 41.093, 33.481,\n",
       "       30.002, 40.754, 39.042, 35.58 , 32.835, 27.864, 28.518, 33.078,\n",
       "       24.005, 32.686, 28.67 , 27.147, 26.254, 25.158, 30.92 , 37.667,\n",
       "       37.565, 35.734, 34.526, 36.653, 36.34 , 34.502, 34.732, 34.768,\n",
       "       32.515, 33.958, 34.323, 34.083, 32.656, 31.797, 31.248, 28.016,\n",
       "       29.136, 26.275, 24.959, 21.997, 24.435, 21.243, 20.208, 28.686,\n",
       "       27.772, 33.345, 29.985, 29.443, 27.088, 24.749, 23.918, 35.699,\n",
       "       36.258, 32.964, 37.608, 35.25 , 36.299, 35.626, 33.842, 36.363,\n",
       "       33.181, 36.804, 25.092, 32.894, 27.116, 24.607, 30.516, 34.029,\n",
       "       26.156, 27.044, 41.847, 31.943, 28.327, 29.485])"
      ]
     },
     "execution_count": 25,
     "metadata": {},
     "output_type": "execute_result"
    }
   ],
   "source": [
    "pipeline_obj.predict(data[X])"
   ]
  },
  {
   "cell_type": "code",
   "execution_count": 27,
   "metadata": {},
   "outputs": [],
   "source": [
    "import joblib\n"
   ]
  },
  {
   "cell_type": "code",
   "execution_count": 28,
   "metadata": {},
   "outputs": [
    {
     "data": {
      "text/plain": [
       "['RFModelforMPG.pkl']"
      ]
     },
     "execution_count": 28,
     "metadata": {},
     "output_type": "execute_result"
    }
   ],
   "source": [
    "joblib.dump(pipeline_obj,'RFModelforMPG.pkl')"
   ]
  },
  {
   "cell_type": "code",
   "execution_count": 29,
   "metadata": {},
   "outputs": [],
   "source": [
    "modelReload=joblib.load('RFModelforMPG.pkl')"
   ]
  },
  {
   "cell_type": "code",
   "execution_count": 30,
   "metadata": {},
   "outputs": [
    {
     "data": {
      "text/plain": [
       "array([17.271, 14.93 , 17.11 , 16.27 , 16.999, 14.62 , 13.97 , 14.14 ,\n",
       "       13.5  , 14.68 , 14.91 , 14.32 , 15.15 , 14.891, 23.953, 21.838,\n",
       "       19.152, 20.911, 26.95 , 26.485, 24.43 , 24.551, 24.785, 25.151,\n",
       "       20.8  , 10.7  , 11.285, 11.73 , 10.05 , 26.98 , 26.125, 24.78 ,\n",
       "       26.335, 19.384, 16.72 , 17.571, 18.656, 18.175, 13.985, 13.78 ,\n",
       "       14.115, 14.325, 12.16 , 12.93 , 12.64 , 18.231, 22.16 , 18.6  ,\n",
       "       18.22 , 23.739, 26.97 , 29.925, 29.31 , 31.565, 33.419, 27.245,\n",
       "       27.085, 24.538, 25.805, 23.555, 20.61 , 22.189, 13.465, 13.67 ,\n",
       "       14.73 , 14.12 , 15.9  , 11.58 , 12.83 , 12.51 , 12.86 , 20.551,\n",
       "       14.79 , 13.975, 13.465, 14.18 , 18.89 , 22.291, 21.101, 26.225,\n",
       "       22.736, 26.032, 22.747, 27.449, 26.845, 13.36 , 14.45 , 13.42 ,\n",
       "       14.075, 14.56 , 11.93 , 13.305, 13.26 , 14.145, 12.53 , 12.12 ,\n",
       "       13.125, 18.486, 16.385, 18.48 , 18.276, 22.084, 26.135, 11.59 ,\n",
       "       12.2  , 12.83 , 12.37 , 18.483, 21.325, 21.475, 22.92 , 22.576,\n",
       "       20.288, 21.433, 26.04 , 14.4  , 15.105, 28.745, 25.22 , 21.695,\n",
       "       19.588, 15.192, 23.282, 20.475, 12.1  , 20.187, 20.663, 19.245,\n",
       "       16.195, 31.08 , 25.121, 31.345, 24.87 , 16.05 , 16.09 , 17.691,\n",
       "       15.37 , 13.435, 13.99 , 13.695, 14.225, 27.554, 27.305, 26.219,\n",
       "       31.761, 31.66 , 27.949, 25.575, 25.836, 23.998, 25.236, 29.99 ,\n",
       "       19.184, 17.688, 16.135, 16.232, 15.095, 14.915, 15.165, 14.29 ,\n",
       "       17.103, 15.9  , 15.8  , 17.749, 20.386, 19.508, 14.955, 28.22 ,\n",
       "       23.627, 19.797, 22.72 , 23.848, 25.765, 24.108, 19.368, 28.805,\n",
       "       18.85 , 23.395, 22.381, 21.35 , 24.037, 32.345, 26.79 , 25.644,\n",
       "       24.879, 25.945, 27.489, 16.795, 15.545, 16.137, 14.679, 21.38 ,\n",
       "       20.626, 22.516, 21.273, 29.74 , 25.815, 28.89 , 32.37 , 19.275,\n",
       "       18.315, 18.187, 18.187, 29.375, 31.954, 27.995, 25.933, 20.33 ,\n",
       "       13.474, 19.904, 19.37 , 16.954, 15.435, 13.695, 13.635, 13.546,\n",
       "       31.457, 30.032, 33.761, 25.684, 32.946, 16.871, 17.628, 15.64 ,\n",
       "       15.297, 17.87 , 20.33 , 19.158, 18.22 , 15.79 , 15.7  , 15.653,\n",
       "       15.802, 29.51 , 24.423, 26.133, 24.798, 30.731, 32.12 , 30.733,\n",
       "       30.021, 21.809, 22.749, 22.071, 40.073, 35.25 , 34.611, 37.754,\n",
       "       35.894, 19.99 , 18.767, 19.319, 19.23 , 20.337, 20.397, 25.056,\n",
       "       20.091, 19.732, 20.417, 20.719, 18.876, 18.804, 18.895, 18.109,\n",
       "       18.342, 16.977, 30.558, 25.468, 26.292, 29.887, 22.917, 23.333,\n",
       "       23.097, 24.446, 20.92 , 17.789, 21.9  , 17.052, 32.081, 31.069,\n",
       "       21.405, 21.252, 24.101, 20.416, 20.754, 17.448, 18.08 , 17.114,\n",
       "       18.016, 16.617, 15.996, 19.595, 17.843, 33.961, 34.342, 35.352,\n",
       "       27.96 , 25.185, 21.6  , 27.654, 22.689, 34.896, 34.291, 33.315,\n",
       "       36.706, 27.98 , 28.048, 26.602, 31.535, 39.297, 37.237, 33.292,\n",
       "       37.009, 27.815, 25.971, 24.975, 20.319, 34.708, 29.885, 31.634,\n",
       "       34.954, 32.822, 44.214, 26.678, 41.399, 43.342, 41.093, 33.481,\n",
       "       30.002, 40.754, 39.042, 35.58 , 32.835, 27.864, 28.518, 33.078,\n",
       "       24.005, 32.686, 28.67 , 27.147, 26.254, 25.158, 30.92 , 37.667,\n",
       "       37.565, 35.734, 34.526, 36.653, 36.34 , 34.502, 34.732, 34.768,\n",
       "       32.515, 33.958, 34.323, 34.083, 32.656, 31.797, 31.248, 28.016,\n",
       "       29.136, 26.275, 24.959, 21.997, 24.435, 21.243, 20.208, 28.686,\n",
       "       27.772, 33.345, 29.985, 29.443, 27.088, 24.749, 23.918, 35.699,\n",
       "       36.258, 32.964, 37.608, 35.25 , 36.299, 35.626, 33.842, 36.363,\n",
       "       33.181, 36.804, 25.092, 32.894, 27.116, 24.607, 30.516, 34.029,\n",
       "       26.156, 27.044, 41.847, 31.943, 28.327, 29.485])"
      ]
     },
     "execution_count": 30,
     "metadata": {},
     "output_type": "execute_result"
    }
   ],
   "source": [
    "modelReload.predict(data[X])"
   ]
  },
  {
   "cell_type": "code",
   "execution_count": 1,
   "metadata": {},
   "outputs": [],
   "source": [
    "temp={}\n",
    "temp['cylinders']=1\n",
    "temp['displacement']=2\n",
    "temp['horsepower']=3\n",
    "temp['weight']=4\n",
    "temp['acceleration']=5\n",
    "temp['model year']=6\n",
    "temp['origin']=1\n"
   ]
  },
  {
   "cell_type": "code",
   "execution_count": 2,
   "metadata": {},
   "outputs": [
    {
     "ename": "NameError",
     "evalue": "name 'pd' is not defined",
     "output_type": "error",
     "traceback": [
      "\u001b[1;31m---------------------------------------------------------------------------\u001b[0m",
      "\u001b[1;31mNameError\u001b[0m                                 Traceback (most recent call last)",
      "\u001b[1;32m<ipython-input-2-dc61486d0e67>\u001b[0m in \u001b[0;36m<module>\u001b[1;34m\u001b[0m\n\u001b[1;32m----> 1\u001b[1;33m \u001b[0mtestData\u001b[0m\u001b[1;33m=\u001b[0m\u001b[0mpd\u001b[0m\u001b[1;33m.\u001b[0m\u001b[0mDataFrame\u001b[0m\u001b[1;33m(\u001b[0m\u001b[1;33m{\u001b[0m\u001b[1;34m'x'\u001b[0m\u001b[1;33m:\u001b[0m\u001b[0mtemp\u001b[0m\u001b[1;33m}\u001b[0m\u001b[1;33m)\u001b[0m\u001b[1;33m.\u001b[0m\u001b[0mtranspose\u001b[0m\u001b[1;33m\u001b[0m\u001b[1;33m\u001b[0m\u001b[0m\n\u001b[0m\u001b[0;32m      2\u001b[0m \u001b[0mtestData\u001b[0m\u001b[1;33m\u001b[0m\u001b[1;33m\u001b[0m\u001b[0m\n",
      "\u001b[1;31mNameError\u001b[0m: name 'pd' is not defined"
     ]
    }
   ],
   "source": [
    "testData=pd.DataFrame({'x':temp}).transpose\n",
    "testData"
   ]
  },
  {
   "cell_type": "code",
   "execution_count": null,
   "metadata": {},
   "outputs": [],
   "source": []
  }
 ],
 "metadata": {
  "kernelspec": {
   "display_name": "Python 3",
   "language": "python",
   "name": "python3"
  },
  "language_info": {
   "codemirror_mode": {
    "name": "ipython",
    "version": 3
   },
   "file_extension": ".py",
   "mimetype": "text/x-python",
   "name": "python",
   "nbconvert_exporter": "python",
   "pygments_lexer": "ipython3",
   "version": "3.7.4"
  }
 },
 "nbformat": 4,
 "nbformat_minor": 2
}
