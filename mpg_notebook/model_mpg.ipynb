{
 "cells": [
  {
   "cell_type": "code",
   "execution_count": null,
   "metadata": {},
   "outputs": [],
   "source": [
    "!pip install sklearn-pandas\n"
   ]
  },
  {
   "cell_type": "code",
   "execution_count": 3,
   "metadata": {},
   "outputs": [],
   "source": [
    "import pandas as pd\n",
    "import numpy as np\n",
    "import sklearn\n",
    "from sklearn import pipeline,preprocessing,metrics,model_selection,ensemble\n",
    "from sklearn_pandas import DataFrameMapper\n",
    "import sklearn.impute\n"
   ]
  },
  {
   "cell_type": "code",
   "execution_count": 4,
   "metadata": {},
   "outputs": [],
   "source": [
    "data = pd.read_csv(r'C:/Users/user/Desktop/mpg/mpg_notebook/auto-mpg.csv')"
   ]
  },
  {
   "cell_type": "code",
   "execution_count": 5,
   "metadata": {},
   "outputs": [
    {
     "data": {
      "text/html": [
       "<div>\n",
       "<style scoped>\n",
       "    .dataframe tbody tr th:only-of-type {\n",
       "        vertical-align: middle;\n",
       "    }\n",
       "\n",
       "    .dataframe tbody tr th {\n",
       "        vertical-align: top;\n",
       "    }\n",
       "\n",
       "    .dataframe thead th {\n",
       "        text-align: right;\n",
       "    }\n",
       "</style>\n",
       "<table border=\"1\" class=\"dataframe\">\n",
       "  <thead>\n",
       "    <tr style=\"text-align: right;\">\n",
       "      <th></th>\n",
       "      <th>mpg</th>\n",
       "      <th>cylinders</th>\n",
       "      <th>displacement</th>\n",
       "      <th>horsepower</th>\n",
       "      <th>weight</th>\n",
       "      <th>acceleration</th>\n",
       "      <th>model year</th>\n",
       "      <th>origin</th>\n",
       "      <th>car name</th>\n",
       "    </tr>\n",
       "  </thead>\n",
       "  <tbody>\n",
       "    <tr>\n",
       "      <th>0</th>\n",
       "      <td>18.0</td>\n",
       "      <td>8</td>\n",
       "      <td>307.0</td>\n",
       "      <td>130</td>\n",
       "      <td>3504</td>\n",
       "      <td>12.0</td>\n",
       "      <td>70</td>\n",
       "      <td>1</td>\n",
       "      <td>chevrolet chevelle malibu</td>\n",
       "    </tr>\n",
       "    <tr>\n",
       "      <th>1</th>\n",
       "      <td>15.0</td>\n",
       "      <td>8</td>\n",
       "      <td>350.0</td>\n",
       "      <td>165</td>\n",
       "      <td>3693</td>\n",
       "      <td>11.5</td>\n",
       "      <td>70</td>\n",
       "      <td>1</td>\n",
       "      <td>buick skylark 320</td>\n",
       "    </tr>\n",
       "    <tr>\n",
       "      <th>2</th>\n",
       "      <td>18.0</td>\n",
       "      <td>8</td>\n",
       "      <td>318.0</td>\n",
       "      <td>150</td>\n",
       "      <td>3436</td>\n",
       "      <td>11.0</td>\n",
       "      <td>70</td>\n",
       "      <td>1</td>\n",
       "      <td>plymouth satellite</td>\n",
       "    </tr>\n",
       "    <tr>\n",
       "      <th>3</th>\n",
       "      <td>16.0</td>\n",
       "      <td>8</td>\n",
       "      <td>304.0</td>\n",
       "      <td>150</td>\n",
       "      <td>3433</td>\n",
       "      <td>12.0</td>\n",
       "      <td>70</td>\n",
       "      <td>1</td>\n",
       "      <td>amc rebel sst</td>\n",
       "    </tr>\n",
       "    <tr>\n",
       "      <th>4</th>\n",
       "      <td>17.0</td>\n",
       "      <td>8</td>\n",
       "      <td>302.0</td>\n",
       "      <td>140</td>\n",
       "      <td>3449</td>\n",
       "      <td>10.5</td>\n",
       "      <td>70</td>\n",
       "      <td>1</td>\n",
       "      <td>ford torino</td>\n",
       "    </tr>\n",
       "  </tbody>\n",
       "</table>\n",
       "</div>"
      ],
      "text/plain": [
       "    mpg  cylinders  displacement horsepower  weight  acceleration  model year  \\\n",
       "0  18.0          8         307.0        130    3504          12.0          70   \n",
       "1  15.0          8         350.0        165    3693          11.5          70   \n",
       "2  18.0          8         318.0        150    3436          11.0          70   \n",
       "3  16.0          8         304.0        150    3433          12.0          70   \n",
       "4  17.0          8         302.0        140    3449          10.5          70   \n",
       "\n",
       "   origin                   car name  \n",
       "0       1  chevrolet chevelle malibu  \n",
       "1       1          buick skylark 320  \n",
       "2       1         plymouth satellite  \n",
       "3       1              amc rebel sst  \n",
       "4       1                ford torino  "
      ]
     },
     "execution_count": 5,
     "metadata": {},
     "output_type": "execute_result"
    }
   ],
   "source": [
    "data.head(5)"
   ]
  },
  {
   "cell_type": "code",
   "execution_count": 6,
   "metadata": {},
   "outputs": [
    {
     "data": {
      "text/plain": [
       "mpg             0\n",
       "cylinders       0\n",
       "displacement    0\n",
       "horsepower      0\n",
       "weight          0\n",
       "acceleration    0\n",
       "model year      0\n",
       "origin          0\n",
       "car name        0\n",
       "dtype: int64"
      ]
     },
     "execution_count": 6,
     "metadata": {},
     "output_type": "execute_result"
    }
   ],
   "source": [
    "data.isnull().sum()"
   ]
  },
  {
   "cell_type": "code",
   "execution_count": 32,
   "metadata": {},
   "outputs": [],
   "source": [
    "mapper = DataFrameMapper([\n",
    "                        (['cylinders','displacement','weight','acceleration','model year'], preprocessing.StandardScaler()),\n",
    "                        (['horsepower'],sklearn.impute.SimpleImputer()),\n",
    "                        (['origin'], preprocessing.OneHotEncoder(handle_unknown='ignore'))\n",
    "                        ])\n"
   ]
  },
  {
   "cell_type": "code",
   "execution_count": 33,
   "metadata": {},
   "outputs": [],
   "source": [
    "pipeline_obj = pipeline.Pipeline([\n",
    "    ('mapper',mapper),\n",
    "    (\"model\", ensemble.RandomForestRegressor())\n",
    "])\n"
   ]
  },
  {
   "cell_type": "code",
   "execution_count": 34,
   "metadata": {},
   "outputs": [
    {
     "data": {
      "text/plain": [
       "Index(['mpg', 'cylinders', 'displacement', 'horsepower', 'weight',\n",
       "       'acceleration', 'model year', 'origin', 'car name'],\n",
       "      dtype='object')"
      ]
     },
     "execution_count": 34,
     "metadata": {},
     "output_type": "execute_result"
    }
   ],
   "source": [
    "data.columns"
   ]
  },
  {
   "cell_type": "code",
   "execution_count": 35,
   "metadata": {},
   "outputs": [],
   "source": [
    "data['horsepower'] =pd.to_numeric(data['horsepower'], errors='coerce')\n"
   ]
  },
  {
   "cell_type": "code",
   "execution_count": 36,
   "metadata": {},
   "outputs": [
    {
     "data": {
      "text/plain": [
       "mpg             float64\n",
       "cylinders         int64\n",
       "displacement    float64\n",
       "horsepower      float64\n",
       "weight            int64\n",
       "acceleration    float64\n",
       "model year        int64\n",
       "origin            int64\n",
       "car name         object\n",
       "dtype: object"
      ]
     },
     "execution_count": 36,
     "metadata": {},
     "output_type": "execute_result"
    }
   ],
   "source": [
    "data.dtypes"
   ]
  },
  {
   "cell_type": "code",
   "execution_count": 37,
   "metadata": {},
   "outputs": [],
   "source": [
    "X = ['cylinders', 'displacement', 'horsepower', 'weight', 'acceleration', 'model year', 'origin']\n",
    "Y = ['mpg']"
   ]
  },
  {
   "cell_type": "code",
   "execution_count": 38,
   "metadata": {},
   "outputs": [
    {
     "name": "stderr",
     "output_type": "stream",
     "text": [
      "C:\\Users\\user\\Anaconda3\\lib\\site-packages\\sklearn\\pipeline.py:335: DataConversionWarning: A column-vector y was passed when a 1d array was expected. Please change the shape of y to (n_samples,), for example using ravel().\n",
      "  self._final_estimator.fit(Xt, y, **fit_params_last_step)\n"
     ]
    },
    {
     "data": {
      "text/plain": [
       "Pipeline(steps=[('mapper',\n",
       "                 DataFrameMapper(drop_cols=[],\n",
       "                                 features=[(['cylinders', 'displacement',\n",
       "                                             'weight', 'acceleration',\n",
       "                                             'model year'],\n",
       "                                            StandardScaler()),\n",
       "                                           (['horsepower'], SimpleImputer()),\n",
       "                                           (['origin'],\n",
       "                                            OneHotEncoder(handle_unknown='ignore'))])),\n",
       "                ('model', RandomForestRegressor())])"
      ]
     },
     "execution_count": 38,
     "metadata": {},
     "output_type": "execute_result"
    }
   ],
   "source": [
    "pipeline_obj.fit(data[X],data[Y])\n"
   ]
  },
  {
   "cell_type": "code",
   "execution_count": 39,
   "metadata": {},
   "outputs": [
    {
     "data": {
      "text/plain": [
       "array([17.17 , 14.916, 17.38 , 16.332, 17.069, 14.41 , 13.99 , 14.1  ,\n",
       "       13.58 , 14.6  , 14.9  , 14.53 , 15.03 , 14.763, 23.869, 21.351,\n",
       "       18.982, 20.765, 27.255, 26.27 , 24.441, 24.28 , 24.757, 25.251,\n",
       "       20.89 , 10.6  , 10.85 , 11.515,  9.86 , 27.285, 26.04 , 25.059,\n",
       "       25.69 , 19.419, 16.999, 17.481, 18.641, 18.102, 14.03 , 13.63 ,\n",
       "       14.2  , 14.26 , 12.215, 12.9  , 12.78 , 18.2  , 22.05 , 18.57 ,\n",
       "       18.274, 23.854, 26.925, 29.11 , 28.81 , 31.57 , 33.395, 27.215,\n",
       "       26.915, 24.444, 25.765, 23.36 , 20.429, 22.673, 13.44 , 13.54 ,\n",
       "       14.8  , 14.04 , 15.957, 11.55 , 12.75 , 12.47 , 12.935, 20.162,\n",
       "       14.941, 13.622, 13.515, 14.08 , 19.125, 22.799, 20.86 , 25.925,\n",
       "       22.627, 26.13 , 22.83 , 27.125, 27.075, 13.23 , 14.667, 13.4  ,\n",
       "       14.026, 14.494, 11.98 , 13.24 , 13.23 , 14.1  , 12.46 , 12.11 ,\n",
       "       13.255, 18.396, 16.19 , 18.22 , 18.255, 21.767, 26.53 , 11.74 ,\n",
       "       12.2  , 12.8  , 12.31 , 18.462, 22.25 , 21.6  , 23.25 , 21.45 ,\n",
       "       20.24 , 21.137, 25.96 , 14.34 , 15.045, 29.155, 24.77 , 21.41 ,\n",
       "       19.612, 15.563, 23.118, 20.373, 12.09 , 20.198, 20.331, 19.203,\n",
       "       16.15 , 31.275, 25.4  , 31.665, 24.641, 16.106, 16.161, 17.887,\n",
       "       15.221, 13.23 , 14.06 , 13.825, 14.012, 27.52 , 27.58 , 26.158,\n",
       "       31.71 , 31.69 , 27.585, 25.575, 25.722, 24.02 , 25.45 , 29.58 ,\n",
       "       19.205, 17.861, 15.938, 15.915, 15.345, 14.805, 15.265, 14.56 ,\n",
       "       17.13 , 16.165, 15.706, 17.676, 20.611, 19.548, 15.019, 28.33 ,\n",
       "       23.566, 19.748, 22.73 , 24.01 , 25.448, 23.925, 19.584, 28.825,\n",
       "       19.024, 23.124, 22.407, 21.908, 23.811, 32.5  , 26.853, 25.299,\n",
       "       24.569, 25.865, 27.06 , 16.335, 15.625, 15.974, 14.81 , 21.334,\n",
       "       20.904, 23.123, 21.494, 29.341, 25.441, 28.915, 32.605, 19.591,\n",
       "       18.305, 18.415, 18.438, 29.776, 31.75 , 28.01 , 25.84 , 20.427,\n",
       "       13.552, 20.227, 19.525, 17.011, 15.485, 13.825, 14.022, 13.458,\n",
       "       31.352, 29.53 , 34.129, 25.226, 32.899, 16.954, 17.155, 15.54 ,\n",
       "       15.53 , 17.87 , 20.431, 19.167, 18.473, 15.835, 15.6  , 15.663,\n",
       "       15.75 , 29.631, 24.73 , 26.809, 25.146, 30.717, 32.328, 30.592,\n",
       "       29.776, 21.691, 22.692, 22.142, 40.413, 35.586, 34.737, 37.044,\n",
       "       35.915, 19.758, 18.969, 19.522, 19.358, 20.271, 20.693, 24.999,\n",
       "       20.245, 19.65 , 20.524, 20.742, 18.916, 18.773, 19.039, 18.273,\n",
       "       18.899, 17.014, 30.243, 25.963, 26.537, 30.125, 22.767, 23.062,\n",
       "       23.398, 24.714, 21.376, 18.209, 22.44 , 17.015, 32.209, 30.44 ,\n",
       "       21.306, 21.493, 23.762, 20.346, 20.789, 17.361, 17.935, 17.421,\n",
       "       17.813, 16.618, 16.067, 19.304, 17.731, 33.104, 34.583, 35.012,\n",
       "       28.138, 25.476, 21.748, 27.564, 22.616, 34.322, 34.255, 34.26 ,\n",
       "       36.149, 27.918, 28.321, 26.455, 31.509, 39.14 , 37.808, 33.642,\n",
       "       37.287, 27.817, 25.63 , 25.099, 20.259, 34.725, 29.747, 31.387,\n",
       "       34.912, 32.685, 43.589, 26.931, 40.911, 43.396, 40.975, 34.369,\n",
       "       30.593, 40.575, 38.627, 35.042, 32.101, 27.726, 28.398, 33.59 ,\n",
       "       23.888, 32.733, 28.313, 27.092, 26.186, 24.76 , 31.1  , 37.945,\n",
       "       37.885, 35.906, 33.532, 36.917, 36.545, 34.427, 34.71 , 34.538,\n",
       "       32.044, 33.797, 34.   , 33.884, 32.767, 31.499, 31.32 , 27.839,\n",
       "       29.003, 25.922, 25.139, 21.716, 24.881, 21.24 , 19.982, 28.427,\n",
       "       27.856, 33.197, 30.258, 29.451, 27.157, 24.842, 23.696, 36.11 ,\n",
       "       36.594, 33.189, 37.358, 35.426, 35.814, 35.456, 34.002, 35.768,\n",
       "       33.206, 36.674, 25.51 , 32.057, 27.643, 24.799, 30.335, 34.083,\n",
       "       25.958, 27.096, 42.021, 32.297, 28.45 , 29.647])"
      ]
     },
     "execution_count": 39,
     "metadata": {},
     "output_type": "execute_result"
    }
   ],
   "source": [
    "pipeline_obj.predict(data[X])"
   ]
  },
  {
   "cell_type": "code",
   "execution_count": 40,
   "metadata": {},
   "outputs": [],
   "source": [
    "import joblib\n"
   ]
  },
  {
   "cell_type": "code",
   "execution_count": 41,
   "metadata": {},
   "outputs": [
    {
     "data": {
      "text/plain": [
       "['RFModelforMPG.pkl']"
      ]
     },
     "execution_count": 41,
     "metadata": {},
     "output_type": "execute_result"
    }
   ],
   "source": [
    "joblib.dump(pipeline_obj,'RFModelforMPG.pkl')"
   ]
  },
  {
   "cell_type": "code",
   "execution_count": 42,
   "metadata": {},
   "outputs": [],
   "source": [
    "modelReload=joblib.load('RFModelforMPG.pkl')"
   ]
  },
  {
   "cell_type": "code",
   "execution_count": 43,
   "metadata": {},
   "outputs": [
    {
     "data": {
      "text/plain": [
       "array([17.17 , 14.916, 17.38 , 16.332, 17.069, 14.41 , 13.99 , 14.1  ,\n",
       "       13.58 , 14.6  , 14.9  , 14.53 , 15.03 , 14.763, 23.869, 21.351,\n",
       "       18.982, 20.765, 27.255, 26.27 , 24.441, 24.28 , 24.757, 25.251,\n",
       "       20.89 , 10.6  , 10.85 , 11.515,  9.86 , 27.285, 26.04 , 25.059,\n",
       "       25.69 , 19.419, 16.999, 17.481, 18.641, 18.102, 14.03 , 13.63 ,\n",
       "       14.2  , 14.26 , 12.215, 12.9  , 12.78 , 18.2  , 22.05 , 18.57 ,\n",
       "       18.274, 23.854, 26.925, 29.11 , 28.81 , 31.57 , 33.395, 27.215,\n",
       "       26.915, 24.444, 25.765, 23.36 , 20.429, 22.673, 13.44 , 13.54 ,\n",
       "       14.8  , 14.04 , 15.957, 11.55 , 12.75 , 12.47 , 12.935, 20.162,\n",
       "       14.941, 13.622, 13.515, 14.08 , 19.125, 22.799, 20.86 , 25.925,\n",
       "       22.627, 26.13 , 22.83 , 27.125, 27.075, 13.23 , 14.667, 13.4  ,\n",
       "       14.026, 14.494, 11.98 , 13.24 , 13.23 , 14.1  , 12.46 , 12.11 ,\n",
       "       13.255, 18.396, 16.19 , 18.22 , 18.255, 21.767, 26.53 , 11.74 ,\n",
       "       12.2  , 12.8  , 12.31 , 18.462, 22.25 , 21.6  , 23.25 , 21.45 ,\n",
       "       20.24 , 21.137, 25.96 , 14.34 , 15.045, 29.155, 24.77 , 21.41 ,\n",
       "       19.612, 15.563, 23.118, 20.373, 12.09 , 20.198, 20.331, 19.203,\n",
       "       16.15 , 31.275, 25.4  , 31.665, 24.641, 16.106, 16.161, 17.887,\n",
       "       15.221, 13.23 , 14.06 , 13.825, 14.012, 27.52 , 27.58 , 26.158,\n",
       "       31.71 , 31.69 , 27.585, 25.575, 25.722, 24.02 , 25.45 , 29.58 ,\n",
       "       19.205, 17.861, 15.938, 15.915, 15.345, 14.805, 15.265, 14.56 ,\n",
       "       17.13 , 16.165, 15.706, 17.676, 20.611, 19.548, 15.019, 28.33 ,\n",
       "       23.566, 19.748, 22.73 , 24.01 , 25.448, 23.925, 19.584, 28.825,\n",
       "       19.024, 23.124, 22.407, 21.908, 23.811, 32.5  , 26.853, 25.299,\n",
       "       24.569, 25.865, 27.06 , 16.335, 15.625, 15.974, 14.81 , 21.334,\n",
       "       20.904, 23.123, 21.494, 29.341, 25.441, 28.915, 32.605, 19.591,\n",
       "       18.305, 18.415, 18.438, 29.776, 31.75 , 28.01 , 25.84 , 20.427,\n",
       "       13.552, 20.227, 19.525, 17.011, 15.485, 13.825, 14.022, 13.458,\n",
       "       31.352, 29.53 , 34.129, 25.226, 32.899, 16.954, 17.155, 15.54 ,\n",
       "       15.53 , 17.87 , 20.431, 19.167, 18.473, 15.835, 15.6  , 15.663,\n",
       "       15.75 , 29.631, 24.73 , 26.809, 25.146, 30.717, 32.328, 30.592,\n",
       "       29.776, 21.691, 22.692, 22.142, 40.413, 35.586, 34.737, 37.044,\n",
       "       35.915, 19.758, 18.969, 19.522, 19.358, 20.271, 20.693, 24.999,\n",
       "       20.245, 19.65 , 20.524, 20.742, 18.916, 18.773, 19.039, 18.273,\n",
       "       18.899, 17.014, 30.243, 25.963, 26.537, 30.125, 22.767, 23.062,\n",
       "       23.398, 24.714, 21.376, 18.209, 22.44 , 17.015, 32.209, 30.44 ,\n",
       "       21.306, 21.493, 23.762, 20.346, 20.789, 17.361, 17.935, 17.421,\n",
       "       17.813, 16.618, 16.067, 19.304, 17.731, 33.104, 34.583, 35.012,\n",
       "       28.138, 25.476, 21.748, 27.564, 22.616, 34.322, 34.255, 34.26 ,\n",
       "       36.149, 27.918, 28.321, 26.455, 31.509, 39.14 , 37.808, 33.642,\n",
       "       37.287, 27.817, 25.63 , 25.099, 20.259, 34.725, 29.747, 31.387,\n",
       "       34.912, 32.685, 43.589, 26.931, 40.911, 43.396, 40.975, 34.369,\n",
       "       30.593, 40.575, 38.627, 35.042, 32.101, 27.726, 28.398, 33.59 ,\n",
       "       23.888, 32.733, 28.313, 27.092, 26.186, 24.76 , 31.1  , 37.945,\n",
       "       37.885, 35.906, 33.532, 36.917, 36.545, 34.427, 34.71 , 34.538,\n",
       "       32.044, 33.797, 34.   , 33.884, 32.767, 31.499, 31.32 , 27.839,\n",
       "       29.003, 25.922, 25.139, 21.716, 24.881, 21.24 , 19.982, 28.427,\n",
       "       27.856, 33.197, 30.258, 29.451, 27.157, 24.842, 23.696, 36.11 ,\n",
       "       36.594, 33.189, 37.358, 35.426, 35.814, 35.456, 34.002, 35.768,\n",
       "       33.206, 36.674, 25.51 , 32.057, 27.643, 24.799, 30.335, 34.083,\n",
       "       25.958, 27.096, 42.021, 32.297, 28.45 , 29.647])"
      ]
     },
     "execution_count": 43,
     "metadata": {},
     "output_type": "execute_result"
    }
   ],
   "source": [
    "modelReload.predict(data[X])"
   ]
  },
  {
   "cell_type": "code",
   "execution_count": 44,
   "metadata": {},
   "outputs": [],
   "source": [
    "temp={}\n",
    "temp['cylinders']=8\n",
    "temp['displacement']=307\n",
    "temp['horsepower']=130\n",
    "temp['weight']=3504\n",
    "temp['acceleration']=12\n",
    "temp['model year']=70\n",
    "temp['origin']=3\n"
   ]
  },
  {
   "cell_type": "code",
   "execution_count": 45,
   "metadata": {},
   "outputs": [
    {
     "data": {
      "text/html": [
       "<div>\n",
       "<style scoped>\n",
       "    .dataframe tbody tr th:only-of-type {\n",
       "        vertical-align: middle;\n",
       "    }\n",
       "\n",
       "    .dataframe tbody tr th {\n",
       "        vertical-align: top;\n",
       "    }\n",
       "\n",
       "    .dataframe thead th {\n",
       "        text-align: right;\n",
       "    }\n",
       "</style>\n",
       "<table border=\"1\" class=\"dataframe\">\n",
       "  <thead>\n",
       "    <tr style=\"text-align: right;\">\n",
       "      <th></th>\n",
       "      <th>acceleration</th>\n",
       "      <th>cylinders</th>\n",
       "      <th>displacement</th>\n",
       "      <th>horsepower</th>\n",
       "      <th>model year</th>\n",
       "      <th>origin</th>\n",
       "      <th>weight</th>\n",
       "    </tr>\n",
       "  </thead>\n",
       "  <tbody>\n",
       "    <tr>\n",
       "      <th>x</th>\n",
       "      <td>12</td>\n",
       "      <td>8</td>\n",
       "      <td>307</td>\n",
       "      <td>130</td>\n",
       "      <td>70</td>\n",
       "      <td>3</td>\n",
       "      <td>3504</td>\n",
       "    </tr>\n",
       "  </tbody>\n",
       "</table>\n",
       "</div>"
      ],
      "text/plain": [
       "   acceleration  cylinders  displacement  horsepower  model year  origin  \\\n",
       "x            12          8           307         130          70       3   \n",
       "\n",
       "   weight  \n",
       "x    3504  "
      ]
     },
     "execution_count": 45,
     "metadata": {},
     "output_type": "execute_result"
    }
   ],
   "source": [
    "testData=pd.DataFrame({'x':temp}).transpose()\n",
    "testData"
   ]
  },
  {
   "cell_type": "code",
   "execution_count": 46,
   "metadata": {},
   "outputs": [
    {
     "data": {
      "text/plain": [
       "17.317"
      ]
     },
     "execution_count": 46,
     "metadata": {},
     "output_type": "execute_result"
    }
   ],
   "source": [
    "modelReload.predict(testData)[0]\n"
   ]
  },
  {
   "cell_type": "code",
   "execution_count": null,
   "metadata": {},
   "outputs": [],
   "source": []
  }
 ],
 "metadata": {
  "kernelspec": {
   "display_name": "Python 3",
   "language": "python",
   "name": "python3"
  },
  "language_info": {
   "codemirror_mode": {
    "name": "ipython",
    "version": 3
   },
   "file_extension": ".py",
   "mimetype": "text/x-python",
   "name": "python",
   "nbconvert_exporter": "python",
   "pygments_lexer": "ipython3",
   "version": "3.7.4"
  }
 },
 "nbformat": 4,
 "nbformat_minor": 2
}
